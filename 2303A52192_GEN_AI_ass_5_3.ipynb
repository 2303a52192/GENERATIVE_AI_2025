{
  "nbformat": 4,
  "nbformat_minor": 0,
  "metadata": {
    "colab": {
      "provenance": [],
      "authorship_tag": "ABX9TyNrzEG15Zq6dkllX3S1/Dnb",
      "include_colab_link": true
    },
    "kernelspec": {
      "name": "python3",
      "display_name": "Python 3"
    },
    "language_info": {
      "name": "python"
    }
  },
  "cells": [
    {
      "cell_type": "markdown",
      "metadata": {
        "id": "view-in-github",
        "colab_type": "text"
      },
      "source": [
        "<a href=\"https://colab.research.google.com/github/2303a52192/GENERATIVE_AI_2025/blob/main/2303A52192_GEN_AI_ass_5_3.ipynb\" target=\"_parent\"><img src=\"https://colab.research.google.com/assets/colab-badge.svg\" alt=\"Open In Colab\"/></a>"
      ]
    },
    {
      "cell_type": "code",
      "execution_count": 1,
      "metadata": {
        "colab": {
          "base_uri": "https://localhost:8080/"
        },
        "id": "CqQLclabbkvH",
        "outputId": "e655de92-6cc6-4314-a074-2b6ceec92d13"
      },
      "outputs": [
        {
          "output_type": "stream",
          "name": "stdout",
          "text": [
            "Trained Weights (Input to Hidden): [[0.35270727 0.73387806 0.28815967 0.81083346]\n",
            " [0.1360668  0.96851214 0.52639281 0.19377188]]\n",
            "Trained Bias (Hidden): [0.03621625 0.98390269 0.87937635 0.72826093]\n",
            "Trained Weights (Hidden to Output): [[0.43406115]\n",
            " [0.19861887]\n",
            " [0.22298912]\n",
            " [0.04876059]]\n",
            "Trained Bias (Output): [-0.31800827]\n",
            "Training MSE: 3.11451624171871e-05\n",
            "Testing MSE: 0.00010180899062435975\n",
            "Enter x1, x2: 2 5\n",
            "Predicted Output: 0.49654220313643455\n"
          ]
        }
      ],
      "source": [
        "import numpy as np\n",
        "\n",
        "def sigmoid(x):\n",
        "    return 1 / (1 + np.exp(-x))\n",
        "\n",
        "def sigmoid_derivative(x):\n",
        "    return x * (1 - x)\n",
        "\n",
        "def predict(X, weights_input_hidden, bias_hidden, weights_hidden_output, bias_output):\n",
        "    hidden_layer_activation = np.dot(X, weights_input_hidden) + bias_hidden\n",
        "    hidden_layer_output = sigmoid(hidden_layer_activation)\n",
        "    output_layer_activation = np.dot(hidden_layer_output, weights_hidden_output) + bias_output\n",
        "    return output_layer_activation, hidden_layer_output\n",
        "\n",
        "def mean_squared_error(y_true, y_pred):\n",
        "    return np.mean((y_true - y_pred) ** 2)\n",
        "\n",
        "def train(X, y, hidden_neurons=4, learning_rate=0.01, epochs=10000):\n",
        "    input_neurons = X.shape[1]\n",
        "    output_neurons = 1\n",
        "\n",
        "    weights_input_hidden = np.random.rand(input_neurons, hidden_neurons)\n",
        "    bias_hidden = np.random.rand(hidden_neurons)\n",
        "    weights_hidden_output = np.random.rand(hidden_neurons, output_neurons)\n",
        "    bias_output = np.random.rand(output_neurons)\n",
        "\n",
        "    for _ in range(epochs):\n",
        "\n",
        "        hidden_layer_activation = np.dot(X, weights_input_hidden) + bias_hidden\n",
        "        hidden_layer_output = sigmoid(hidden_layer_activation)\n",
        "        output_layer_activation = np.dot(hidden_layer_output, weights_hidden_output) + bias_output\n",
        "        y_pred = output_layer_activation\n",
        "\n",
        "        error = y - y_pred\n",
        "        d_output = error\n",
        "        d_hidden_layer = np.dot(d_output, weights_hidden_output.T) * sigmoid_derivative(hidden_layer_output)\n",
        "\n",
        "        weights_hidden_output += learning_rate * np.dot(hidden_layer_output.T, d_output)\n",
        "        bias_output += learning_rate * np.sum(d_output, axis=0)\n",
        "        weights_input_hidden += learning_rate * np.dot(X.T, d_hidden_layer)\n",
        "        bias_hidden += learning_rate * np.sum(d_hidden_layer, axis=0)\n",
        "\n",
        "    return weights_input_hidden, bias_hidden, weights_hidden_output, bias_output\n",
        "\n",
        "X_train = np.array([\n",
        "    [1, 2],\n",
        "    [2, 3],\n",
        "    [5, 6],\n",
        "    [6, 7],\n",
        "    [7, 8],\n",
        "    [8, 9]\n",
        "])\n",
        "y_train = np.array([[0.4140], [0.4611], [0.5501], [0.5656], [0.5765], [0.5840]])\n",
        "\n",
        "weights_input_hidden, bias_hidden, weights_hidden_output, bias_output = train(X_train, y_train)\n",
        "\n",
        "X_test = np.array([\n",
        "    [3, 4],\n",
        "    [4, 5]\n",
        "])\n",
        "y_test = np.array([[0.4992], [0.5285]])\n",
        "\n",
        "y_train_pred, _ = predict(X_train, weights_input_hidden, bias_hidden, weights_hidden_output, bias_output)\n",
        "y_test_pred, _ = predict(X_test, weights_input_hidden, bias_hidden, weights_hidden_output, bias_output)\n",
        "\n",
        "train_mse = mean_squared_error(y_train, y_train_pred)\n",
        "test_mse = mean_squared_error(y_test, y_test_pred)\n",
        "\n",
        "print(f\"Trained Weights (Input to Hidden): {weights_input_hidden}\")\n",
        "print(f\"Trained Bias (Hidden): {bias_hidden}\")\n",
        "print(f\"Trained Weights (Hidden to Output): {weights_hidden_output}\")\n",
        "print(f\"Trained Bias (Output): {bias_output}\")\n",
        "print(f\"Training MSE: {train_mse}\")\n",
        "print(f\"Testing MSE: {test_mse}\")\n",
        "\n",
        "x1, x2 = map(float, input(\"Enter x1, x2: \").split())\n",
        "user_input = np.array([[x1, x2]])\n",
        "prediction, _ = predict(user_input, weights_input_hidden, bias_hidden, weights_hidden_output, bias_output)\n",
        "print(f\"Predicted Output: {prediction[0][0]}\")"
      ]
    }
  ]
}