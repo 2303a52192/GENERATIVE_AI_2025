{
  "nbformat": 4,
  "nbformat_minor": 0,
  "metadata": {
    "colab": {
      "provenance": [],
      "authorship_tag": "ABX9TyNsdO+4aNrtHRJJE9NNahUU",
      "include_colab_link": true
    },
    "kernelspec": {
      "name": "python3",
      "display_name": "Python 3"
    },
    "language_info": {
      "name": "python"
    }
  },
  "cells": [
    {
      "cell_type": "markdown",
      "metadata": {
        "id": "view-in-github",
        "colab_type": "text"
      },
      "source": [
        "<a href=\"https://colab.research.google.com/github/2303a52192/GENERATIVE_AI_2025/blob/main/2303A52192_GEN_AI_ass_2.ipynb\" target=\"_parent\"><img src=\"https://colab.research.google.com/assets/colab-badge.svg\" alt=\"Open In Colab\"/></a>"
      ]
    },
    {
      "cell_type": "code",
      "execution_count": null,
      "metadata": {
        "colab": {
          "base_uri": "https://localhost:8080/"
        },
        "id": "U8K6DRnlj4dL",
        "outputId": "6628dde3-28c4-47b5-f47d-402a9b4d8bc0"
      },
      "outputs": [
        {
          "output_type": "stream",
          "name": "stdout",
          "text": [
            "no. of A chacolates=%0.2f 2.0\n",
            "no. of B chacolates=%0.2f 3.0\n"
          ]
        }
      ],
      "source": [
        "from scipy.optimize import linprog\n",
        "import numpy as np\n",
        "\n",
        "obj=[-6,-5]\n",
        "\n",
        "A=[[1,1], [3,2]]\n",
        "\n",
        "b=[5,12]\n",
        "\n",
        "bnd=[(0,float(\"inf\")), (0,float(\"inf\"))]\n",
        "\n",
        "opt=linprog(c=obj,A_ub=A,b_ub=b, bounds=bnd) #Simplex interior-point)\n",
        "\n",
        "chaco = np.round(opt.x)\n",
        "\n",
        "print(\"no. of A chocolates=%0.2f\", chaco[0])\n",
        "\n",
        "print(\"no. of B chocolates=%0.2f\", chaco[1])"
      ]
    },
    {
      "cell_type": "code",
      "source": [
        "#Q2:\n",
        "from scipy.optimize import linprog\n",
        "c = [-50, -120]\n",
        "\n",
        "A = [\n",
        "    [1, 1],\n",
        "    [7000, 2000],\n",
        "    [10, 30]\n",
        "]\n",
        "\n",
        "b = [110, 700000, 1200]\n",
        "\n",
        "x_bounds = (0, None)\n",
        "y_bounds = (0, None)\n",
        "\n",
        "result = linprog(c, A_ub=A, b_ub=b, bounds=[x_bounds, y_bounds], method='highs')\n",
        "\n",
        "if result.success:\n",
        "    x, y = result.x\n",
        "    max_profit = -result.fun\n",
        "    print(f\"Optimal hectares for Wheat: {x:.2f}\")\n",
        "    print(f\"Optimal hectares for Barley: {y:.2f}\")\n",
        "    print(f\"Maximum Profit: Rs {max_profit:.2f}\")\n",
        "else:\n",
        "    print(\"No solution found!\")"
      ],
      "metadata": {
        "colab": {
          "base_uri": "https://localhost:8080/"
        },
        "id": "_qvmGtb3moNd",
        "outputId": "3cb26c96-d47e-41f0-9061-0daf773ee1e5"
      },
      "execution_count": null,
      "outputs": [
        {
          "output_type": "stream",
          "name": "stdout",
          "text": [
            "Optimal hectares for Wheat: 97.89\n",
            "Optimal hectares for Barley: 7.37\n",
            "Maximum Profit: Rs 5778.95\n"
          ]
        }
      ]
    }
  ]
}