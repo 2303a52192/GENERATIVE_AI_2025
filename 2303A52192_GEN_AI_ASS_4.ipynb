{
  "nbformat": 4,
  "nbformat_minor": 0,
  "metadata": {
    "colab": {
      "provenance": [],
      "authorship_tag": "ABX9TyNHdsFC/72xU0qNQiUNV4lX",
      "include_colab_link": true
    },
    "kernelspec": {
      "name": "python3",
      "display_name": "Python 3"
    },
    "language_info": {
      "name": "python"
    }
  },
  "cells": [
    {
      "cell_type": "markdown",
      "metadata": {
        "id": "view-in-github",
        "colab_type": "text"
      },
      "source": [
        "<a href=\"https://colab.research.google.com/github/2303a52192/GENERATIVE_AI_2025/blob/main/2303A52192_GEN_AI_ASS_4.ipynb\" target=\"_parent\"><img src=\"https://colab.research.google.com/assets/colab-badge.svg\" alt=\"Open In Colab\"/></a>"
      ]
    },
    {
      "cell_type": "code",
      "execution_count": 2,
      "metadata": {
        "colab": {
          "base_uri": "https://localhost:8080/"
        },
        "id": "U1dKJxJCN5-C",
        "outputId": "90848b3a-4b04-4ba8-dd00-6d4c7c5e4902"
      },
      "outputs": [
        {
          "output_type": "stream",
          "name": "stdout",
          "text": [
            "Trained Weights: [0.07611376 0.10293105 0.1518628 ]\n",
            "Trained Bias: 0.12979041315980766\n",
            "Training MSE: 0.0014793414955226627\n",
            "Testing MSE: 0.007313500948695628\n"
          ]
        }
      ],
      "source": [
        "import numpy as np\n",
        "def linear_activation(x):\n",
        "    return x\n",
        "def predict(X, weights, bias):\n",
        "    return np.dot(X, weights) + bias\n",
        "def mean_squared_error(y_true, y_pred):\n",
        "    return np.mean((y_true - y_pred) ** 2)\n",
        "def train(X, y, learning_rate=0.01, epochs=1000):\n",
        "    num_features = X.shape[1]\n",
        "    weights = np.zeros(num_features)\n",
        "    bias = 0\n",
        "    for _ in range(epochs):\n",
        "        y_pred = predict(X, weights, bias)\n",
        "        error = y_pred - y\n",
        "        d_weights = np.dot(X.T, error) / len(y)\n",
        "        d_bias = np.mean(error)\n",
        "        weights -= learning_rate * d_weights\n",
        "        bias -= learning_rate * d_bias\n",
        "    return weights, bias\n",
        "X_train = np.array([\n",
        "    [0.1, 0.2, 0.3],\n",
        "    [0.2, 0.3, 0.4],\n",
        "    [0.3, 0.4, 0.5],\n",
        "    [0.5, 0.6, 0.7],\n",
        "    [0.1, 0.3, 0.5],\n",
        "    [0.2, 0.4, 0.6],\n",
        "    [0.3, 0.5, 0.7],\n",
        "    [0.4, 0.6, 0.8],\n",
        "    [0.5, 0.7, 0.1]\n",
        "])\n",
        "y_train = np.array([0.14, 0.20, 0.26, 0.38, 0.22, 0.28, 0.34, 0.40, 0.22])\n",
        "weights, bias = train(X_train, y_train)\n",
        "X_test = np.array([\n",
        "    [0.6, 0.7, 0.8],\n",
        "    [0.7, 0.8, 0.9]\n",
        "])\n",
        "y_test = np.array([0.44, 0.50])\n",
        "y_train_pred = predict(X_train, weights, bias)\n",
        "y_test_pred = predict(X_test, weights, bias)\n",
        "train_mse = mean_squared_error(y_train, y_train_pred)\n",
        "test_mse = mean_squared_error(y_test, y_test_pred)\n",
        "\n",
        "print(f\"Trained Weights: {weights}\")\n",
        "print(f\"Trained Bias: {bias}\")\n",
        "print(f\"Training MSE: {train_mse}\")\n",
        "print(f\"Testing MSE: {test_mse}\")\n",
        "\n"
      ]
    },
    {
      "cell_type": "code",
      "source": [
        "import numpy as np\n",
        "\n",
        "def sigmoid(x):\n",
        "    return 1 / (1 + np.exp(-x))\n",
        "\n",
        "def sigmoid_derivative(x):\n",
        "    return x * (1 - x)\n",
        "\n",
        "def predict(X, weights, bias):\n",
        "    return sigmoid(np.dot(X, weights) + bias)\n",
        "\n",
        "def mean_squared_error(y_true, y_pred):\n",
        "    return np.mean((y_true - y_pred) ** 2)\n",
        "\n",
        "def train(X, y, learning_rate=0.01, epochs=10000):\n",
        "    num_features = X.shape[1]\n",
        "    weights = np.zeros(num_features)\n",
        "    bias = 0\n",
        "\n",
        "    for _ in range(epochs):\n",
        "        y_pred = predict(X, weights, bias)\n",
        "        error = y - y_pred\n",
        "\n",
        "        # Compute gradients\n",
        "        d_weights = np.dot(X.T, error * sigmoid_derivative(y_pred)) / len(y)\n",
        "        d_bias = np.mean(error * sigmoid_derivative(y_pred))\n",
        "\n",
        "        # Update weights and bias\n",
        "        weights += learning_rate * d_weights\n",
        "        bias += learning_rate * d_bias\n",
        "\n",
        "    return weights, bias\n",
        "\n",
        "# Training Data\n",
        "X_train = np.array([\n",
        "    [0.1, 0.2, 0.3],\n",
        "    [0.2, 0.3, 0.4],\n",
        "    [0.3, 0.4, 0.5],\n",
        "    [0.5, 0.6, 0.7],\n",
        "    [0.1, 0.3, 0.5],\n",
        "    [0.2, 0.4, 0.6],\n",
        "    [0.3, 0.5, 0.7],\n",
        "    [0.4, 0.6, 0.8],\n",
        "    [0.5, 0.7, 0.1]\n",
        "])\n",
        "y_train = np.array([0.5349, 0.5498, 0.5646, 0.5939, 0.5548, 0.5695, 0.5842, 0.5987, 0.5548])\n",
        "\n",
        "# Train the model\n",
        "weights, bias = train(X_train, y_train)\n",
        "\n",
        "# Test Data\n",
        "X_test = np.array([\n",
        "    [0.6, 0.7, 0.8],\n",
        "    [0.7, 0.8, 0.9]\n",
        "])\n",
        "y_test = np.array([0.6083, 0.6225])\n",
        "\n",
        "# Predictions\n",
        "y_train_pred = predict(X_train, weights, bias)\n",
        "y_test_pred = predict(X_test, weights, bias)\n",
        "\n",
        "# Mean Squared Error Calculation\n",
        "train_mse = mean_squared_error(y_train, y_train_pred)\n",
        "test_mse = mean_squared_error(y_test, y_test_pred)\n",
        "\n",
        "print(f\"Trained Weights: {weights}\")\n",
        "print(f\"Trained Bias: {bias}\")\n",
        "print(f\"Training MSE: {train_mse}\")\n",
        "print(f\"Testing MSE: {test_mse}\")\n",
        "\n",
        "# User input prediction\n",
        "x1, x2, x3 = map(float, input(\"Enter x1, x2, x3: \").split())\n",
        "user_input = np.array([[x1, x2, x3]])\n",
        "prediction = predict(user_input, weights, bias)\n",
        "print(f\"Predicted Output: {prediction[0]}\")\n"
      ],
      "metadata": {
        "colab": {
          "base_uri": "https://localhost:8080/"
        },
        "id": "av7EzHn6O-2L",
        "outputId": "378195fd-ecb1-4d59-b532-8fadd0c5b300"
      },
      "execution_count": 5,
      "outputs": [
        {
          "output_type": "stream",
          "name": "stdout",
          "text": [
            "Trained Weights: [0.06776187 0.09491375 0.13068386]\n",
            "Trained Bias: 0.14649508452188353\n",
            "Training MSE: 0.00011514997260626639\n",
            "Testing MSE: 0.000554044070410009\n",
            "Enter x1, x2, x3: 1 2 5\n",
            "Predicted Output: 0.7422132209991315\n"
          ]
        }
      ]
    }
  ]
}